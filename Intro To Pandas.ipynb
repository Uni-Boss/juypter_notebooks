{
 "cells": [
  {
   "cell_type": "markdown",
   "metadata": {},
   "source": [
    "# Intro To Pandas: Loading A .csv File"
   ]
  },
  {
   "cell_type": "raw",
   "metadata": {},
   "source": [
    "To begin using pandas and access its library of functions, you first have to import it using 'import'. When importing a module you can also rename it which is useful as continually typing a very long module name becomes tedious. Below pandas is imported and renamed pd."
   ]
  },
  {
   "cell_type": "code",
   "execution_count": 2,
   "metadata": {},
   "outputs": [],
   "source": [
    "# Install a pip package in the current Jupyter kernel\n",
    "import sys\n",
    "#sys.path\n",
    "import pandas as pd"
   ]
  },
  {
   "cell_type": "raw",
   "metadata": {},
   "source": [
    "You will often have your data in an Excel spreadsheet saved as a comma separated file (.csv) and loading the data into a dataframe is made easy in pandas with the below command:"
   ]
  },
  {
   "cell_type": "code",
   "execution_count": 3,
   "metadata": {},
   "outputs": [],
   "source": [
    "lego_df = pd.read_csv('colors.csv')"
   ]
  },
  {
   "cell_type": "raw",
   "metadata": {},
   "source": [
    "The data from the excel spreadsheet 'colors.csv' has now been loaded into a pandas dataframe. Let's take a quick look at the data. Calling the .head() or .tail() functions on lego_df with display the first or last five entries of lego_df:"
   ]
  },
  {
   "cell_type": "code",
   "execution_count": 4,
   "metadata": {},
   "outputs": [
    {
     "data": {
      "text/html": [
       "<div>\n",
       "<style scoped>\n",
       "    .dataframe tbody tr th:only-of-type {\n",
       "        vertical-align: middle;\n",
       "    }\n",
       "\n",
       "    .dataframe tbody tr th {\n",
       "        vertical-align: top;\n",
       "    }\n",
       "\n",
       "    .dataframe thead th {\n",
       "        text-align: right;\n",
       "    }\n",
       "</style>\n",
       "<table border=\"1\" class=\"dataframe\">\n",
       "  <thead>\n",
       "    <tr style=\"text-align: right;\">\n",
       "      <th></th>\n",
       "      <th>id</th>\n",
       "      <th>name</th>\n",
       "      <th>rgb</th>\n",
       "      <th>is_trans</th>\n",
       "    </tr>\n",
       "  </thead>\n",
       "  <tbody>\n",
       "    <tr>\n",
       "      <th>0</th>\n",
       "      <td>-1</td>\n",
       "      <td>[Unknown]</td>\n",
       "      <td>0033B2</td>\n",
       "      <td>f</td>\n",
       "    </tr>\n",
       "    <tr>\n",
       "      <th>1</th>\n",
       "      <td>0</td>\n",
       "      <td>Black</td>\n",
       "      <td>05131D</td>\n",
       "      <td>f</td>\n",
       "    </tr>\n",
       "    <tr>\n",
       "      <th>2</th>\n",
       "      <td>1</td>\n",
       "      <td>Blue</td>\n",
       "      <td>0055BF</td>\n",
       "      <td>f</td>\n",
       "    </tr>\n",
       "    <tr>\n",
       "      <th>3</th>\n",
       "      <td>2</td>\n",
       "      <td>Green</td>\n",
       "      <td>237841</td>\n",
       "      <td>f</td>\n",
       "    </tr>\n",
       "    <tr>\n",
       "      <th>4</th>\n",
       "      <td>3</td>\n",
       "      <td>Dark Turquoise</td>\n",
       "      <td>008F9B</td>\n",
       "      <td>f</td>\n",
       "    </tr>\n",
       "  </tbody>\n",
       "</table>\n",
       "</div>"
      ],
      "text/plain": [
       "   id            name     rgb is_trans\n",
       "0  -1       [Unknown]  0033B2        f\n",
       "1   0           Black  05131D        f\n",
       "2   1            Blue  0055BF        f\n",
       "3   2           Green  237841        f\n",
       "4   3  Dark Turquoise  008F9B        f"
      ]
     },
     "execution_count": 4,
     "metadata": {},
     "output_type": "execute_result"
    }
   ],
   "source": [
    "lego_df.head()"
   ]
  },
  {
   "cell_type": "code",
   "execution_count": 5,
   "metadata": {},
   "outputs": [
    {
     "data": {
      "text/html": [
       "<div>\n",
       "<style scoped>\n",
       "    .dataframe tbody tr th:only-of-type {\n",
       "        vertical-align: middle;\n",
       "    }\n",
       "\n",
       "    .dataframe tbody tr th {\n",
       "        vertical-align: top;\n",
       "    }\n",
       "\n",
       "    .dataframe thead th {\n",
       "        text-align: right;\n",
       "    }\n",
       "</style>\n",
       "<table border=\"1\" class=\"dataframe\">\n",
       "  <thead>\n",
       "    <tr style=\"text-align: right;\">\n",
       "      <th></th>\n",
       "      <th>id</th>\n",
       "      <th>name</th>\n",
       "      <th>rgb</th>\n",
       "      <th>is_trans</th>\n",
       "    </tr>\n",
       "  </thead>\n",
       "  <tbody>\n",
       "    <tr>\n",
       "      <th>173</th>\n",
       "      <td>1047</td>\n",
       "      <td>Modulex Foil Red</td>\n",
       "      <td>8B0000</td>\n",
       "      <td>f</td>\n",
       "    </tr>\n",
       "    <tr>\n",
       "      <th>174</th>\n",
       "      <td>1048</td>\n",
       "      <td>Modulex Foil Yellow</td>\n",
       "      <td>FED557</td>\n",
       "      <td>f</td>\n",
       "    </tr>\n",
       "    <tr>\n",
       "      <th>175</th>\n",
       "      <td>1049</td>\n",
       "      <td>Modulex Foil Orange</td>\n",
       "      <td>F7AD63</td>\n",
       "      <td>f</td>\n",
       "    </tr>\n",
       "    <tr>\n",
       "      <th>176</th>\n",
       "      <td>1050</td>\n",
       "      <td>Coral</td>\n",
       "      <td>FF698F</td>\n",
       "      <td>f</td>\n",
       "    </tr>\n",
       "    <tr>\n",
       "      <th>177</th>\n",
       "      <td>9999</td>\n",
       "      <td>[No Color/Any Color]</td>\n",
       "      <td>05131D</td>\n",
       "      <td>f</td>\n",
       "    </tr>\n",
       "  </tbody>\n",
       "</table>\n",
       "</div>"
      ],
      "text/plain": [
       "       id                  name     rgb is_trans\n",
       "173  1047      Modulex Foil Red  8B0000        f\n",
       "174  1048   Modulex Foil Yellow  FED557        f\n",
       "175  1049   Modulex Foil Orange  F7AD63        f\n",
       "176  1050                 Coral  FF698F        f\n",
       "177  9999  [No Color/Any Color]  05131D        f"
      ]
     },
     "execution_count": 5,
     "metadata": {},
     "output_type": "execute_result"
    }
   ],
   "source": [
    "lego_df.tail()"
   ]
  },
  {
   "cell_type": "raw",
   "metadata": {},
   "source": [
    "If you want to view a different number of entries, provide this number as an argument in the .head() or .tail() function e.g. .head(7) would return the first seven rows.\n",
    "\n",
    "Notice how the left-hand side of the dataframe consists of a numbered index starting at 0 and ending at 177. Pandas does this automatically, though if you wanted to assign one of the columns as an index, when reading in your .csv file you would write:\n",
    "\n",
    "    pd.read('colors.csv', index='id')"
   ]
  },
  {
   "cell_type": "code",
   "execution_count": 6,
   "metadata": {},
   "outputs": [
    {
     "name": "stdout",
     "output_type": "stream",
     "text": [
      "   id            name     rgb is_trans\n",
      "0  -1       [Unknown]  0033B2        f\n",
      "1   0           Black  05131D        f\n",
      "2   1            Blue  0055BF        f\n",
      "3   2           Green  237841        f\n",
      "4   3  Dark Turquoise  008F9B        f\n"
     ]
    }
   ],
   "source": [
    "pd.read_csv('colors.csv', index_col='id')\n",
    "print(lego_df.head())"
   ]
  },
  {
   "cell_type": "raw",
   "metadata": {},
   "source": [
    "Also, each column has been given a header by default as well. If the data you were reading in did not have a header, the first row of data would be assigned as the column headers. To prevent this, you can tell pandas that the data to be read in does not contain a header with the 'header' argument:"
   ]
  },
  {
   "cell_type": "code",
   "execution_count": 7,
   "metadata": {},
   "outputs": [
    {
     "name": "stdout",
     "output_type": "stream",
     "text": [
      "    0          1       2         3\n",
      "0  id       name     rgb  is_trans\n",
      "1  -1  [Unknown]  0033B2         f\n",
      "2   0      Black  05131D         f\n",
      "3   1       Blue  0055BF         f\n",
      "4   2      Green  237841         f\n"
     ]
    }
   ],
   "source": [
    "lego_df = pd.read_csv('colors.csv', header=None)\n",
    "print(lego_df.head())"
   ]
  },
  {
   "cell_type": "raw",
   "metadata": {},
   "source": [
    "Now our dataframe does not have any column headers and has been assigned a number instead of the first row of data. If you wanted to name the columns, you could do so by:\n",
    "\n",
    "    dataframe.columns = ['column0', 'column1', 'column3', 'column4']"
   ]
  },
  {
   "cell_type": "code",
   "execution_count": 8,
   "metadata": {},
   "outputs": [
    {
     "name": "stdout",
     "output_type": "stream",
     "text": [
      "  column0    column1 column3   column4\n",
      "0      id       name     rgb  is_trans\n",
      "1      -1  [Unknown]  0033B2         f\n",
      "2       0      Black  05131D         f\n",
      "3       1       Blue  0055BF         f\n",
      "4       2      Green  237841         f\n"
     ]
    }
   ],
   "source": [
    "lego_df.columns = ['column0', 'column1', 'column3', 'column4']\n",
    "\n",
    "print(lego_df.head())"
   ]
  },
  {
   "cell_type": "raw",
   "metadata": {},
   "source": [
    "Let's revert back to our original dataframe with the column headings:"
   ]
  },
  {
   "cell_type": "code",
   "execution_count": 9,
   "metadata": {},
   "outputs": [],
   "source": [
    "lego_df = pd.read_csv('colors.csv')"
   ]
  },
  {
   "cell_type": "markdown",
   "metadata": {},
   "source": [
    "# Getting Information From Your Dataframe "
   ]
  },
  {
   "cell_type": "raw",
   "metadata": {},
   "source": [
    "To get some quick statistical information on the dataframe use .describe():"
   ]
  },
  {
   "cell_type": "code",
   "execution_count": 10,
   "metadata": {},
   "outputs": [
    {
     "data": {
      "text/html": [
       "<div>\n",
       "<style scoped>\n",
       "    .dataframe tbody tr th:only-of-type {\n",
       "        vertical-align: middle;\n",
       "    }\n",
       "\n",
       "    .dataframe tbody tr th {\n",
       "        vertical-align: top;\n",
       "    }\n",
       "\n",
       "    .dataframe thead th {\n",
       "        text-align: right;\n",
       "    }\n",
       "</style>\n",
       "<table border=\"1\" class=\"dataframe\">\n",
       "  <thead>\n",
       "    <tr style=\"text-align: right;\">\n",
       "      <th></th>\n",
       "      <th>id</th>\n",
       "    </tr>\n",
       "  </thead>\n",
       "  <tbody>\n",
       "    <tr>\n",
       "      <th>count</th>\n",
       "      <td>178.000000</td>\n",
       "    </tr>\n",
       "    <tr>\n",
       "      <th>mean</th>\n",
       "      <td>440.488764</td>\n",
       "    </tr>\n",
       "    <tr>\n",
       "      <th>std</th>\n",
       "      <td>833.769903</td>\n",
       "    </tr>\n",
       "    <tr>\n",
       "      <th>min</th>\n",
       "      <td>-1.000000</td>\n",
       "    </tr>\n",
       "    <tr>\n",
       "      <th>25%</th>\n",
       "      <td>54.750000</td>\n",
       "    </tr>\n",
       "    <tr>\n",
       "      <th>50%</th>\n",
       "      <td>149.000000</td>\n",
       "    </tr>\n",
       "    <tr>\n",
       "      <th>75%</th>\n",
       "      <td>1006.750000</td>\n",
       "    </tr>\n",
       "    <tr>\n",
       "      <th>max</th>\n",
       "      <td>9999.000000</td>\n",
       "    </tr>\n",
       "  </tbody>\n",
       "</table>\n",
       "</div>"
      ],
      "text/plain": [
       "                id\n",
       "count   178.000000\n",
       "mean    440.488764\n",
       "std     833.769903\n",
       "min      -1.000000\n",
       "25%      54.750000\n",
       "50%     149.000000\n",
       "75%    1006.750000\n",
       "max    9999.000000"
      ]
     },
     "execution_count": 10,
     "metadata": {},
     "output_type": "execute_result"
    }
   ],
   "source": [
    "lego_df.describe()"
   ]
  },
  {
   "cell_type": "raw",
   "metadata": {},
   "source": [
    "If you want to get information on types of values in lego_df:"
   ]
  },
  {
   "cell_type": "code",
   "execution_count": 12,
   "metadata": {},
   "outputs": [
    {
     "name": "stdout",
     "output_type": "stream",
     "text": [
      "<class 'pandas.core.frame.DataFrame'>\n",
      "RangeIndex: 178 entries, 0 to 177\n",
      "Data columns (total 4 columns):\n",
      "id          178 non-null int64\n",
      "name        178 non-null object\n",
      "rgb         178 non-null object\n",
      "is_trans    178 non-null object\n",
      "dtypes: int64(1), object(3)\n",
      "memory usage: 5.6+ KB\n"
     ]
    }
   ],
   "source": [
    "lego_df.info()"
   ]
  },
  {
   "cell_type": "raw",
   "metadata": {},
   "source": [
    "You can see that lego_df is a pandas dataframe with 178 entries and four columns in total (id, name, rgb, is_trans). Each column contains no missing entries (non-null) and the id column contains numerical data of type int64, and the remaining three columns contain object data types."
   ]
  },
  {
   "cell_type": "raw",
   "metadata": {},
   "source": [
    "To access specific columns or rows you can use the .iloc or .loc method. .iloc uses an index based approach whereas .loc uses a name based approach. One thing to bear in mind when using the .iloc method is that numbering starts at 0 and not 1, so the first row is row 0 and the first column is column 0. To use the .iloc method you call it on your dataframe:\n",
    "\n",
    "dataframe.iloc[row, column]\n",
    "\n",
    "So if we wanted to access the cell of the first row and first column you would write"
   ]
  },
  {
   "cell_type": "code",
   "execution_count": 13,
   "metadata": {},
   "outputs": [
    {
     "name": "stdout",
     "output_type": "stream",
     "text": [
      "Cell value with index [0,0] is -1\n",
      "Cell value with index [1,3] is f\n",
      "Cell value with index [2,2] is 0055BF\n"
     ]
    }
   ],
   "source": [
    "print('Cell value with index [0,0] is ' + str(lego_df.iloc[0,0]))\n",
    "print('Cell value with index [1,3] is ' + str(lego_df.iloc[1,3]))\n",
    "print('Cell value with index [2,2] is ' + str(lego_df.iloc[2,2]))"
   ]
  },
  {
   "cell_type": "raw",
   "metadata": {},
   "source": [
    "To access segments, columns, or rows by themselves pandas can slice these sections for you. Slicing works by taking a start and end point, and returning everything between these points. Let's say we have a shopping list:"
   ]
  },
  {
   "cell_type": "code",
   "execution_count": 14,
   "metadata": {},
   "outputs": [],
   "source": [
    "my_shopping_list = ['apple', 'bananna', 'cheese']"
   ]
  },
  {
   "cell_type": "raw",
   "metadata": {},
   "source": [
    "We can print each item out according to its index number:"
   ]
  },
  {
   "cell_type": "code",
   "execution_count": 15,
   "metadata": {},
   "outputs": [
    {
     "name": "stdout",
     "output_type": "stream",
     "text": [
      "Index 0 item is:apple\n",
      "Index 1 item is:bananna\n",
      "Index 2 item is:cheese\n"
     ]
    }
   ],
   "source": [
    "print('Index 0 item is:' + my_shopping_list[0])\n",
    "print('Index 1 item is:' + my_shopping_list[1])\n",
    "print('Index 2 item is:' + my_shopping_list[2])"
   ]
  },
  {
   "cell_type": "raw",
   "metadata": {},
   "source": [
    "You can also use negative indexing:"
   ]
  },
  {
   "cell_type": "code",
   "execution_count": 16,
   "metadata": {},
   "outputs": [
    {
     "name": "stdout",
     "output_type": "stream",
     "text": [
      "Index -1 is:cheese\n",
      "Index -2 is:bananna\n",
      "Index -3 is:apple\n"
     ]
    }
   ],
   "source": [
    "print('Index -1 is:' + str(my_shopping_list[-1]))\n",
    "print('Index -2 is:' + str(my_shopping_list[-2]))\n",
    "print('Index -3 is:' + str(my_shopping_list[-3]))"
   ]
  },
  {
   "cell_type": "raw",
   "metadata": {},
   "source": [
    "To slice the shopping list, we use the square brackets as above but this time follow the format [start index : end index]. To see this in action:"
   ]
  },
  {
   "cell_type": "code",
   "execution_count": 17,
   "metadata": {},
   "outputs": [
    {
     "name": "stdout",
     "output_type": "stream",
     "text": [
      "Slicing from 0 to 1:['apple']\n"
     ]
    }
   ],
   "source": [
    "print('Slicing from 0 to 1:' + str(my_shopping_list[0:1]))"
   ]
  },
  {
   "cell_type": "raw",
   "metadata": {},
   "source": [
    "If we wanted the middle item:"
   ]
  },
  {
   "cell_type": "code",
   "execution_count": 18,
   "metadata": {},
   "outputs": [
    {
     "name": "stdout",
     "output_type": "stream",
     "text": [
      "Slicing from 1 to 2:['bananna']\n"
     ]
    }
   ],
   "source": [
    "print('Slicing from 1 to 2:' + str(my_shopping_list[1:2]))"
   ]
  },
  {
   "cell_type": "raw",
   "metadata": {},
   "source": [
    "Sometimes you may want to have everything up to or past a certain index value, in which case you do not provide a number e.g. to take all the items after index one you leave the end index blank:"
   ]
  },
  {
   "cell_type": "code",
   "execution_count": 19,
   "metadata": {},
   "outputs": [
    {
     "name": "stdout",
     "output_type": "stream",
     "text": [
      "Everything after index 1:['bananna', 'cheese']\n"
     ]
    }
   ],
   "source": [
    "print('Everything after index 1:' + str(my_shopping_list[1:]))"
   ]
  },
  {
   "cell_type": "raw",
   "metadata": {},
   "source": [
    "To have everything up until index 2 you leave the start index blank:"
   ]
  },
  {
   "cell_type": "code",
   "execution_count": 20,
   "metadata": {},
   "outputs": [
    {
     "name": "stdout",
     "output_type": "stream",
     "text": [
      "Everything up unto index2:['apple', 'bananna']\n"
     ]
    }
   ],
   "source": [
    "print('Everything up unto index2:' + str(my_shopping_list[:2]))"
   ]
  },
  {
   "cell_type": "raw",
   "metadata": {},
   "source": [
    "If you want everything from start to finish you can leave both start and end index blank:"
   ]
  },
  {
   "cell_type": "code",
   "execution_count": 21,
   "metadata": {},
   "outputs": [
    {
     "name": "stdout",
     "output_type": "stream",
     "text": [
      "Everything:['apple', 'bananna', 'cheese']\n"
     ]
    }
   ],
   "source": [
    "print('Everything:' + str(my_shopping_list[:]))"
   ]
  },
  {
   "cell_type": "raw",
   "metadata": {},
   "source": [
    "You can even use negative indexing:"
   ]
  },
  {
   "cell_type": "code",
   "execution_count": 22,
   "metadata": {},
   "outputs": [
    {
     "name": "stdout",
     "output_type": "stream",
     "text": [
      "Index -1 is:cheese\n"
     ]
    }
   ],
   "source": [
    "print('Index -1 is:' + str(my_shopping_list[-1]))"
   ]
  },
  {
   "cell_type": "raw",
   "metadata": {},
   "source": [
    "Returning to our lego dataframe, we can slice entire rows or columns by index using:\n",
    "\n",
    "dataframe[ row[start:end] , [columns[start:end]] ]\n",
    "\n",
    "To get all columns in the first row we slice frome 0:1 and leave the column start and end index blank:"
   ]
  },
  {
   "cell_type": "code",
   "execution_count": 23,
   "metadata": {},
   "outputs": [
    {
     "data": {
      "text/html": [
       "<div>\n",
       "<style scoped>\n",
       "    .dataframe tbody tr th:only-of-type {\n",
       "        vertical-align: middle;\n",
       "    }\n",
       "\n",
       "    .dataframe tbody tr th {\n",
       "        vertical-align: top;\n",
       "    }\n",
       "\n",
       "    .dataframe thead th {\n",
       "        text-align: right;\n",
       "    }\n",
       "</style>\n",
       "<table border=\"1\" class=\"dataframe\">\n",
       "  <thead>\n",
       "    <tr style=\"text-align: right;\">\n",
       "      <th></th>\n",
       "      <th>id</th>\n",
       "      <th>name</th>\n",
       "      <th>rgb</th>\n",
       "      <th>is_trans</th>\n",
       "    </tr>\n",
       "  </thead>\n",
       "  <tbody>\n",
       "    <tr>\n",
       "      <th>0</th>\n",
       "      <td>-1</td>\n",
       "      <td>[Unknown]</td>\n",
       "      <td>0033B2</td>\n",
       "      <td>f</td>\n",
       "    </tr>\n",
       "  </tbody>\n",
       "</table>\n",
       "</div>"
      ],
      "text/plain": [
       "   id       name     rgb is_trans\n",
       "0  -1  [Unknown]  0033B2        f"
      ]
     },
     "execution_count": 23,
     "metadata": {},
     "output_type": "execute_result"
    }
   ],
   "source": [
    "lego_df.iloc[0:1, :]"
   ]
  },
  {
   "cell_type": "raw",
   "metadata": {},
   "source": [
    "To get all the rows in the first column:"
   ]
  },
  {
   "cell_type": "code",
   "execution_count": 24,
   "metadata": {},
   "outputs": [
    {
     "data": {
      "text/html": [
       "<div>\n",
       "<style scoped>\n",
       "    .dataframe tbody tr th:only-of-type {\n",
       "        vertical-align: middle;\n",
       "    }\n",
       "\n",
       "    .dataframe tbody tr th {\n",
       "        vertical-align: top;\n",
       "    }\n",
       "\n",
       "    .dataframe thead th {\n",
       "        text-align: right;\n",
       "    }\n",
       "</style>\n",
       "<table border=\"1\" class=\"dataframe\">\n",
       "  <thead>\n",
       "    <tr style=\"text-align: right;\">\n",
       "      <th></th>\n",
       "      <th>id</th>\n",
       "    </tr>\n",
       "  </thead>\n",
       "  <tbody>\n",
       "    <tr>\n",
       "      <th>0</th>\n",
       "      <td>-1</td>\n",
       "    </tr>\n",
       "    <tr>\n",
       "      <th>1</th>\n",
       "      <td>0</td>\n",
       "    </tr>\n",
       "    <tr>\n",
       "      <th>2</th>\n",
       "      <td>1</td>\n",
       "    </tr>\n",
       "    <tr>\n",
       "      <th>3</th>\n",
       "      <td>2</td>\n",
       "    </tr>\n",
       "    <tr>\n",
       "      <th>4</th>\n",
       "      <td>3</td>\n",
       "    </tr>\n",
       "    <tr>\n",
       "      <th>5</th>\n",
       "      <td>4</td>\n",
       "    </tr>\n",
       "    <tr>\n",
       "      <th>6</th>\n",
       "      <td>5</td>\n",
       "    </tr>\n",
       "    <tr>\n",
       "      <th>7</th>\n",
       "      <td>6</td>\n",
       "    </tr>\n",
       "    <tr>\n",
       "      <th>8</th>\n",
       "      <td>7</td>\n",
       "    </tr>\n",
       "    <tr>\n",
       "      <th>9</th>\n",
       "      <td>8</td>\n",
       "    </tr>\n",
       "    <tr>\n",
       "      <th>10</th>\n",
       "      <td>9</td>\n",
       "    </tr>\n",
       "    <tr>\n",
       "      <th>11</th>\n",
       "      <td>10</td>\n",
       "    </tr>\n",
       "    <tr>\n",
       "      <th>12</th>\n",
       "      <td>11</td>\n",
       "    </tr>\n",
       "    <tr>\n",
       "      <th>13</th>\n",
       "      <td>12</td>\n",
       "    </tr>\n",
       "    <tr>\n",
       "      <th>14</th>\n",
       "      <td>13</td>\n",
       "    </tr>\n",
       "    <tr>\n",
       "      <th>15</th>\n",
       "      <td>14</td>\n",
       "    </tr>\n",
       "    <tr>\n",
       "      <th>16</th>\n",
       "      <td>15</td>\n",
       "    </tr>\n",
       "    <tr>\n",
       "      <th>17</th>\n",
       "      <td>17</td>\n",
       "    </tr>\n",
       "    <tr>\n",
       "      <th>18</th>\n",
       "      <td>18</td>\n",
       "    </tr>\n",
       "    <tr>\n",
       "      <th>19</th>\n",
       "      <td>19</td>\n",
       "    </tr>\n",
       "    <tr>\n",
       "      <th>20</th>\n",
       "      <td>20</td>\n",
       "    </tr>\n",
       "    <tr>\n",
       "      <th>21</th>\n",
       "      <td>21</td>\n",
       "    </tr>\n",
       "    <tr>\n",
       "      <th>22</th>\n",
       "      <td>22</td>\n",
       "    </tr>\n",
       "    <tr>\n",
       "      <th>23</th>\n",
       "      <td>23</td>\n",
       "    </tr>\n",
       "    <tr>\n",
       "      <th>24</th>\n",
       "      <td>25</td>\n",
       "    </tr>\n",
       "    <tr>\n",
       "      <th>25</th>\n",
       "      <td>26</td>\n",
       "    </tr>\n",
       "    <tr>\n",
       "      <th>26</th>\n",
       "      <td>27</td>\n",
       "    </tr>\n",
       "    <tr>\n",
       "      <th>27</th>\n",
       "      <td>28</td>\n",
       "    </tr>\n",
       "    <tr>\n",
       "      <th>28</th>\n",
       "      <td>29</td>\n",
       "    </tr>\n",
       "    <tr>\n",
       "      <th>29</th>\n",
       "      <td>30</td>\n",
       "    </tr>\n",
       "    <tr>\n",
       "      <th>...</th>\n",
       "      <td>...</td>\n",
       "    </tr>\n",
       "    <tr>\n",
       "      <th>148</th>\n",
       "      <td>1022</td>\n",
       "    </tr>\n",
       "    <tr>\n",
       "      <th>149</th>\n",
       "      <td>1023</td>\n",
       "    </tr>\n",
       "    <tr>\n",
       "      <th>150</th>\n",
       "      <td>1024</td>\n",
       "    </tr>\n",
       "    <tr>\n",
       "      <th>151</th>\n",
       "      <td>1025</td>\n",
       "    </tr>\n",
       "    <tr>\n",
       "      <th>152</th>\n",
       "      <td>1026</td>\n",
       "    </tr>\n",
       "    <tr>\n",
       "      <th>153</th>\n",
       "      <td>1027</td>\n",
       "    </tr>\n",
       "    <tr>\n",
       "      <th>154</th>\n",
       "      <td>1028</td>\n",
       "    </tr>\n",
       "    <tr>\n",
       "      <th>155</th>\n",
       "      <td>1029</td>\n",
       "    </tr>\n",
       "    <tr>\n",
       "      <th>156</th>\n",
       "      <td>1030</td>\n",
       "    </tr>\n",
       "    <tr>\n",
       "      <th>157</th>\n",
       "      <td>1031</td>\n",
       "    </tr>\n",
       "    <tr>\n",
       "      <th>158</th>\n",
       "      <td>1032</td>\n",
       "    </tr>\n",
       "    <tr>\n",
       "      <th>159</th>\n",
       "      <td>1033</td>\n",
       "    </tr>\n",
       "    <tr>\n",
       "      <th>160</th>\n",
       "      <td>1034</td>\n",
       "    </tr>\n",
       "    <tr>\n",
       "      <th>161</th>\n",
       "      <td>1035</td>\n",
       "    </tr>\n",
       "    <tr>\n",
       "      <th>162</th>\n",
       "      <td>1036</td>\n",
       "    </tr>\n",
       "    <tr>\n",
       "      <th>163</th>\n",
       "      <td>1037</td>\n",
       "    </tr>\n",
       "    <tr>\n",
       "      <th>164</th>\n",
       "      <td>1038</td>\n",
       "    </tr>\n",
       "    <tr>\n",
       "      <th>165</th>\n",
       "      <td>1039</td>\n",
       "    </tr>\n",
       "    <tr>\n",
       "      <th>166</th>\n",
       "      <td>1040</td>\n",
       "    </tr>\n",
       "    <tr>\n",
       "      <th>167</th>\n",
       "      <td>1041</td>\n",
       "    </tr>\n",
       "    <tr>\n",
       "      <th>168</th>\n",
       "      <td>1042</td>\n",
       "    </tr>\n",
       "    <tr>\n",
       "      <th>169</th>\n",
       "      <td>1043</td>\n",
       "    </tr>\n",
       "    <tr>\n",
       "      <th>170</th>\n",
       "      <td>1044</td>\n",
       "    </tr>\n",
       "    <tr>\n",
       "      <th>171</th>\n",
       "      <td>1045</td>\n",
       "    </tr>\n",
       "    <tr>\n",
       "      <th>172</th>\n",
       "      <td>1046</td>\n",
       "    </tr>\n",
       "    <tr>\n",
       "      <th>173</th>\n",
       "      <td>1047</td>\n",
       "    </tr>\n",
       "    <tr>\n",
       "      <th>174</th>\n",
       "      <td>1048</td>\n",
       "    </tr>\n",
       "    <tr>\n",
       "      <th>175</th>\n",
       "      <td>1049</td>\n",
       "    </tr>\n",
       "    <tr>\n",
       "      <th>176</th>\n",
       "      <td>1050</td>\n",
       "    </tr>\n",
       "    <tr>\n",
       "      <th>177</th>\n",
       "      <td>9999</td>\n",
       "    </tr>\n",
       "  </tbody>\n",
       "</table>\n",
       "<p>178 rows × 1 columns</p>\n",
       "</div>"
      ],
      "text/plain": [
       "       id\n",
       "0      -1\n",
       "1       0\n",
       "2       1\n",
       "3       2\n",
       "4       3\n",
       "5       4\n",
       "6       5\n",
       "7       6\n",
       "8       7\n",
       "9       8\n",
       "10      9\n",
       "11     10\n",
       "12     11\n",
       "13     12\n",
       "14     13\n",
       "15     14\n",
       "16     15\n",
       "17     17\n",
       "18     18\n",
       "19     19\n",
       "20     20\n",
       "21     21\n",
       "22     22\n",
       "23     23\n",
       "24     25\n",
       "25     26\n",
       "26     27\n",
       "27     28\n",
       "28     29\n",
       "29     30\n",
       "..    ...\n",
       "148  1022\n",
       "149  1023\n",
       "150  1024\n",
       "151  1025\n",
       "152  1026\n",
       "153  1027\n",
       "154  1028\n",
       "155  1029\n",
       "156  1030\n",
       "157  1031\n",
       "158  1032\n",
       "159  1033\n",
       "160  1034\n",
       "161  1035\n",
       "162  1036\n",
       "163  1037\n",
       "164  1038\n",
       "165  1039\n",
       "166  1040\n",
       "167  1041\n",
       "168  1042\n",
       "169  1043\n",
       "170  1044\n",
       "171  1045\n",
       "172  1046\n",
       "173  1047\n",
       "174  1048\n",
       "175  1049\n",
       "176  1050\n",
       "177  9999\n",
       "\n",
       "[178 rows x 1 columns]"
      ]
     },
     "execution_count": 24,
     "metadata": {},
     "output_type": "execute_result"
    }
   ],
   "source": [
    "lego_df.iloc[:, 0:1]"
   ]
  },
  {
   "cell_type": "raw",
   "metadata": {},
   "source": [
    "To get cells (1,1) to cells (3,3)"
   ]
  },
  {
   "cell_type": "code",
   "execution_count": 27,
   "metadata": {},
   "outputs": [
    {
     "data": {
      "text/html": [
       "<div>\n",
       "<style scoped>\n",
       "    .dataframe tbody tr th:only-of-type {\n",
       "        vertical-align: middle;\n",
       "    }\n",
       "\n",
       "    .dataframe tbody tr th {\n",
       "        vertical-align: top;\n",
       "    }\n",
       "\n",
       "    .dataframe thead th {\n",
       "        text-align: right;\n",
       "    }\n",
       "</style>\n",
       "<table border=\"1\" class=\"dataframe\">\n",
       "  <thead>\n",
       "    <tr style=\"text-align: right;\">\n",
       "      <th></th>\n",
       "      <th>name</th>\n",
       "      <th>rgb</th>\n",
       "      <th>is_trans</th>\n",
       "    </tr>\n",
       "  </thead>\n",
       "  <tbody>\n",
       "    <tr>\n",
       "      <th>1</th>\n",
       "      <td>Black</td>\n",
       "      <td>05131D</td>\n",
       "      <td>f</td>\n",
       "    </tr>\n",
       "    <tr>\n",
       "      <th>2</th>\n",
       "      <td>Blue</td>\n",
       "      <td>0055BF</td>\n",
       "      <td>f</td>\n",
       "    </tr>\n",
       "    <tr>\n",
       "      <th>3</th>\n",
       "      <td>Green</td>\n",
       "      <td>237841</td>\n",
       "      <td>f</td>\n",
       "    </tr>\n",
       "  </tbody>\n",
       "</table>\n",
       "</div>"
      ],
      "text/plain": [
       "    name     rgb is_trans\n",
       "1  Black  05131D        f\n",
       "2   Blue  0055BF        f\n",
       "3  Green  237841        f"
      ]
     },
     "execution_count": 27,
     "metadata": {},
     "output_type": "execute_result"
    }
   ],
   "source": [
    "lego_df.iloc[1:4, 1:4]"
   ]
  },
  {
   "cell_type": "raw",
   "metadata": {},
   "source": [
    "The other method to interact with a dataframe is .loc which uses row and column names instead of indexing. If you wanted to take a look at the first four items in the name column:"
   ]
  },
  {
   "cell_type": "code",
   "execution_count": 28,
   "metadata": {},
   "outputs": [
    {
     "data": {
      "text/plain": [
       "1             Black\n",
       "2              Blue\n",
       "3             Green\n",
       "4    Dark Turquoise\n",
       "Name: name, dtype: object"
      ]
     },
     "execution_count": 28,
     "metadata": {},
     "output_type": "execute_result"
    }
   ],
   "source": [
    "lego_df.loc[1:4, 'name']"
   ]
  },
  {
   "cell_type": "markdown",
   "metadata": {},
   "source": [
    "### Boolean Arrays \n",
    "\n",
    "Quite often, you will want to search a dataframe and select only values which meet a certain criteria; to accomplish this we can use a slice using the result of a boolean array. A boolean array is simply a list of 1's or 0's, 1 being yes and 0 being no regarding a condition. For instance, if you wanted to find all the items in lego_df that have is_trans = 't', to create a boolean array you would do the following:"
   ]
  },
  {
   "cell_type": "code",
   "execution_count": 29,
   "metadata": {},
   "outputs": [
    {
     "name": "stdout",
     "output_type": "stream",
     "text": [
      "25    False\n",
      "26    False\n",
      "27    False\n",
      "28    False\n",
      "29    False\n",
      "30    False\n",
      "31     True\n",
      "32     True\n",
      "33     True\n",
      "34     True\n",
      "Name: is_trans, dtype: bool\n",
      "<class 'pandas.core.series.Series'>\n"
     ]
    }
   ],
   "source": [
    "mask = lego_df['is_trans'] == 't'\n",
    "# print a subsection of the mask dataframe\n",
    "print(mask[25:35])\n",
    "# print the data type of mask\n",
    "print(type(mask))"
   ]
  },
  {
   "cell_type": "raw",
   "metadata": {},
   "source": [
    "Here we see that the values of mask are either true or false depending on whether the condition \" is_trans == 't' \" is true or false. What has happened is each item in the is_trans column has been checked and if is_trans is equivalent to 't' the row number of mask has a true value assigned to it; if it is not then a false value is assigned to the corresponding row value. \n",
    "\n",
    "Mask is a boolean datataype or bool, and is a pandas series, which is essentially a one column dataframe.\n",
    "\n",
    "This by it self is nothing spectacular, though when this mask array is combined with an index operation it will can return another dataframe where only the items in the same position as true are returned:"
   ]
  },
  {
   "cell_type": "code",
   "execution_count": 30,
   "metadata": {},
   "outputs": [
    {
     "name": "stdout",
     "output_type": "stream",
     "text": [
      "    id                 name     rgb is_trans\n",
      "31  32  Trans-Black IR Lens  635F52        t\n",
      "32  33      Trans-Dark Blue  0020A0        t\n",
      "33  34          Trans-Green  84B68D        t\n",
      "34  35   Trans-Bright Green  D9E4A7        t\n",
      "35  36            Trans-Red  C91A09        t\n",
      "36  40          Trans-Black  635F52        t\n",
      "37  41     Trans-Light Blue  AEEFEC        t\n"
     ]
    }
   ],
   "source": [
    "# create the boolean array\n",
    "mask = lego_df['is_trans'] == 't'\n",
    "# apply the mask to the lego_df dataframe\n",
    "is_trans_df = lego_df[mask]\n",
    "# print the first seven entries of is_trans_df\n",
    "print(is_trans_df.head(7))"
   ]
  },
  {
   "cell_type": "raw",
   "metadata": {},
   "source": [
    "To understand the above code, you can imagine taking the lego_df dataframe and mask dataframe and putting them side by side. You then go through each row and check to see if mask is either true or false; every time you see false you cross out that entire row. Finally, you take any rows that remain and place them in a new dataframe called is_trans_df.\n",
    "\n",
    "This ability to search through a dataframe with boolean arrays is incredibly powerful and multiple boolean operation may be carried out with the following operations:\n",
    "\n",
    "       And : dataframe[mask1 & mask2]\n",
    "        Or : dataframe[mask1 | mask2]\n",
    "       Not : dataframe[~mask1]"
   ]
  },
  {
   "cell_type": "code",
   "execution_count": 32,
   "metadata": {},
   "outputs": [
    {
     "name": "stdout",
     "output_type": "stream",
     "text": [
      "    id                name     rgb is_trans\n",
      "32  33     Trans-Dark Blue  0020A0        t\n",
      "33  34         Trans-Green  84B68D        t\n",
      "34  35  Trans-Bright Green  D9E4A7        t\n",
      "35  36           Trans-Red  C91A09        t\n",
      "36  40         Trans-Black  635F52        t\n",
      "37  41    Trans-Light Blue  AEEFEC        t\n",
      "38  42    Trans-Neon Green  F8F184        t\n"
     ]
    }
   ],
   "source": [
    "# Search through the lego dataframe for all is_trans AND id > 32\n",
    "# create the boolean array for is trans\n",
    "mask_is_trans = lego_df['is_trans'] == 't'\n",
    "\n",
    "# create the boolean array for id > 32\n",
    "mask_id_32 = lego_df['id'] > 32\n",
    "\n",
    "# apply the mask to the lego_df dataframe\n",
    "AND_df = lego_df[mask_is_trans & mask_id_32]\n",
    "# print the first seven entries of is_trans_df\n",
    "print(AND_df.head(7))"
   ]
  },
  {
   "cell_type": "code",
   "execution_count": 33,
   "metadata": {},
   "outputs": [
    {
     "name": "stdout",
     "output_type": "stream",
     "text": [
      "    id                 name     rgb is_trans\n",
      "31  32  Trans-Black IR Lens  635F52        t\n",
      "32  33      Trans-Dark Blue  0020A0        t\n",
      "33  34          Trans-Green  84B68D        t\n",
      "34  35   Trans-Bright Green  D9E4A7        t\n",
      "35  36            Trans-Red  C91A09        t\n",
      "36  40          Trans-Black  635F52        t\n",
      "37  41     Trans-Light Blue  AEEFEC        t\n"
     ]
    }
   ],
   "source": [
    "# select each item that is is_trans or id > 32\n",
    "OR_df = lego_df[mask_is_trans | mask_id_32]\n",
    "# print the first seven entries of is_trans_df\n",
    "print(OR_df.head(7))"
   ]
  },
  {
   "cell_type": "code",
   "execution_count": 34,
   "metadata": {},
   "outputs": [
    {
     "name": "stdout",
     "output_type": "stream",
     "text": [
      "   id            name     rgb is_trans\n",
      "0  -1       [Unknown]  0033B2        f\n",
      "1   0           Black  05131D        f\n",
      "2   1            Blue  0055BF        f\n",
      "3   2           Green  237841        f\n",
      "4   3  Dark Turquoise  008F9B        f\n",
      "5   4             Red  C91A09        f\n",
      "6   5       Dark Pink  C870A0        f\n"
     ]
    }
   ],
   "source": [
    "# create the boolean array for is trans\n",
    "mask_not_trans = ~mask_is_trans\n",
    "\n",
    "# create the boolean array for id > 32\n",
    "mask_not_32 = ~mask_id_32\n",
    "\n",
    "# select each item that is not is_trans or not id > 32\n",
    "Not_df = lego_df[mask_not_trans | mask_not_32]\n",
    "# print the first seven entries of is_trans_df\n",
    "print(Not_df.head(7))"
   ]
  },
  {
   "cell_type": "markdown",
   "metadata": {},
   "source": [
    "Now that you are able to read in data into a pandas dataframe, there are some more features that will come in useful e.g. statistics, dealing with missing values, plotting data in pandas, etc. In a future post I will cover the basics of all of these things and more. For now, continue to play around with pandas and you'll find the more information that will help you achieve first class honours at www.uni-boss.org.\n",
    "\n",
    "As always, work hard, work smart, and become a better you."
   ]
  }
 ],
 "metadata": {
  "kernelspec": {
   "display_name": "Python 3",
   "language": "python",
   "name": "python3"
  },
  "language_info": {
   "codemirror_mode": {
    "name": "ipython",
    "version": 3
   },
   "file_extension": ".py",
   "mimetype": "text/x-python",
   "name": "python",
   "nbconvert_exporter": "python",
   "pygments_lexer": "ipython3",
   "version": "3.7.1"
  }
 },
 "nbformat": 4,
 "nbformat_minor": 2
}
